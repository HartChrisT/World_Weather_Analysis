{
 "cells": [
  {
   "cell_type": "code",
   "execution_count": 1,
   "id": "a0ecbcb1",
   "metadata": {},
   "outputs": [],
   "source": [
    "# Import the random module.\n",
    "import random"
   ]
  },
  {
   "cell_type": "code",
   "execution_count": 2,
   "id": "ed14ef0f",
   "metadata": {},
   "outputs": [
    {
     "data": {
      "text/plain": [
       "-59"
      ]
     },
     "execution_count": 2,
     "metadata": {},
     "output_type": "execute_result"
    }
   ],
   "source": [
    "random.randint(-90,90)"
   ]
  },
  {
   "cell_type": "code",
   "execution_count": 4,
   "id": "7430eea0",
   "metadata": {},
   "outputs": [
    {
     "data": {
      "text/plain": [
       "0.17249212072179576"
      ]
     },
     "execution_count": 4,
     "metadata": {},
     "output_type": "execute_result"
    }
   ],
   "source": [
    "random.random()"
   ]
  },
  {
   "cell_type": "code",
   "execution_count": 5,
   "id": "15b2845e",
   "metadata": {},
   "outputs": [
    {
     "data": {
      "text/plain": [
       "-58.42476001744541"
      ]
     },
     "execution_count": 5,
     "metadata": {},
     "output_type": "execute_result"
    }
   ],
   "source": [
    "random_number = random.randint(-90,89) + random.random()\n",
    "random_number"
   ]
  },
  {
   "cell_type": "code",
   "execution_count": 8,
   "id": "67985566",
   "metadata": {},
   "outputs": [],
   "source": [
    "x = 1\n",
    "latitudes = []\n",
    "while x < 11:\n",
    "    random_lat = random.randint(-90,89) + random.random()\n",
    "    latitudes.append(random_lat)\n",
    "    x += 1"
   ]
  },
  {
   "cell_type": "code",
   "execution_count": 9,
   "id": "66b7d954",
   "metadata": {},
   "outputs": [
    {
     "data": {
      "text/plain": [
       "[58.796793919761804,\n",
       " 67.65027442343639,\n",
       " -8.166735519743483,\n",
       " 52.0878177095224,\n",
       " 62.66142978057666,\n",
       " 9.713563376695923,\n",
       " -48.09534478093787,\n",
       " 0.35963987528682384,\n",
       " 26.813496753200035,\n",
       " 27.378238404941737]"
      ]
     },
     "execution_count": 9,
     "metadata": {},
     "output_type": "execute_result"
    }
   ],
   "source": [
    "latitudes"
   ]
  },
  {
   "cell_type": "code",
   "execution_count": 11,
   "id": "8866315f",
   "metadata": {},
   "outputs": [
    {
     "data": {
      "text/plain": [
       "-36.96395103782868"
      ]
     },
     "execution_count": 11,
     "metadata": {},
     "output_type": "execute_result"
    }
   ],
   "source": [
    "random.uniform(-90,90)"
   ]
  },
  {
   "cell_type": "code",
   "execution_count": 12,
   "id": "98573ee5",
   "metadata": {},
   "outputs": [],
   "source": [
    "# Import the NumPy module\n",
    "import numpy as np"
   ]
  },
  {
   "cell_type": "code",
   "execution_count": 13,
   "id": "747f93da",
   "metadata": {},
   "outputs": [
    {
     "data": {
      "text/plain": [
       "81.6124526594646"
      ]
     },
     "execution_count": 13,
     "metadata": {},
     "output_type": "execute_result"
    }
   ],
   "source": [
    "np.random.uniform(-90,90)"
   ]
  },
  {
   "cell_type": "code",
   "execution_count": 14,
   "id": "20131040",
   "metadata": {},
   "outputs": [
    {
     "data": {
      "text/plain": [
       "array([-60.23794547, -43.41405658,  37.66566924,   7.88250599,\n",
       "        50.07846756,  11.46086025,  37.39559104,   3.87296218,\n",
       "         6.41996905,   6.2036896 ,  11.81622209, -41.06188071,\n",
       "        65.31264297, -13.76482683,  27.41564052,  -8.88723795,\n",
       "        11.52706355,  48.86382244, -79.7622368 ,  73.79054423,\n",
       "       -88.45431175,   1.8911834 ,  26.49128232, -18.10924996,\n",
       "       -72.98076052, -23.79124617,  70.46382299,  10.19198247,\n",
       "        60.01490941, -18.63222649, -76.07486905, -80.379905  ,\n",
       "       -69.67776656,  17.99379939,  74.8327628 ,  72.84326   ,\n",
       "        75.95665394,  49.92585817, -41.01390946, -52.1186534 ,\n",
       "       -61.82915632,  -0.84146686,  47.1562898 ,  83.1664558 ,\n",
       "        12.98473488,   0.29455443,   4.87410229,  23.57306377,\n",
       "       -36.82773077, -61.54283319,  52.76381104, -88.37305136,\n",
       "       -41.83100434,  70.35205751,  76.42345263, -45.50700733,\n",
       "        31.80453453, -16.56124484, -57.49297173, -87.49571975,\n",
       "       -28.95188689,  41.6897875 , -59.96442815,   5.17960576,\n",
       "        87.44107073,  14.7691651 , -75.32409475,  -5.27729732,\n",
       "        17.89906992,  66.59892251,  64.10552445,  -7.39529045,\n",
       "        47.62255156,  61.92975124, -84.32591217,  56.56689883,\n",
       "       -73.43022754, -83.02725501, -70.35717493,  -7.10455917,\n",
       "        89.36708128, -16.13033534,  -6.16040297,  26.4636967 ,\n",
       "       -68.57575909, -22.78789337, -62.1012073 , -37.95800716,\n",
       "        32.50428546,  41.60862479,   4.51041598, -36.81643736,\n",
       "        62.11956556,  39.52459008,  -8.82052329,  40.02673634,\n",
       "       -35.59323197,  46.41309498,  13.80910353,  25.13629218])"
      ]
     },
     "execution_count": 14,
     "metadata": {},
     "output_type": "execute_result"
    }
   ],
   "source": [
    "np.random.uniform(-90,90,size=100)"
   ]
  },
  {
   "cell_type": "code",
   "execution_count": 15,
   "id": "bed7b330",
   "metadata": {},
   "outputs": [],
   "source": [
    "# Import timeit.\n",
    "import timeit"
   ]
  },
  {
   "cell_type": "code",
   "execution_count": 16,
   "id": "e9c0a88c",
   "metadata": {},
   "outputs": [
    {
     "name": "stdout",
     "output_type": "stream",
     "text": [
      "11.7 µs ± 105 ns per loop (mean ± std. dev. of 7 runs, 100000 loops each)\n"
     ]
    }
   ],
   "source": [
    "%timeit np.random.uniform(-90,90, size=1500)"
   ]
  },
  {
   "cell_type": "code",
   "execution_count": 17,
   "id": "ae8d165d",
   "metadata": {},
   "outputs": [
    {
     "name": "stdout",
     "output_type": "stream",
     "text": [
      "1.46 ms ± 4.19 µs per loop (mean ± std. dev. of 7 runs, 1000 loops each)\n"
     ]
    }
   ],
   "source": [
    "def latitudes(size):\n",
    "    latitudes = []\n",
    "    x = 0\n",
    "    while x < (size):\n",
    "        random_lat = random.randint(-90,90) + random.random()\n",
    "        latitudes.append(random_lat)\n",
    "        x +=1\n",
    "    return latitudes\n",
    "# Call the function with 1500\n",
    "%timeit latitudes(1500)"
   ]
  },
  {
   "cell_type": "code",
   "execution_count": 22,
   "id": "7ed13781",
   "metadata": {},
   "outputs": [],
   "source": []
  },
  {
   "cell_type": "code",
   "execution_count": null,
   "id": "4fa41b21",
   "metadata": {},
   "outputs": [],
   "source": []
  }
 ],
 "metadata": {
  "kernelspec": {
   "display_name": "PythonData",
   "language": "python",
   "name": "pythondata"
  },
  "language_info": {
   "codemirror_mode": {
    "name": "ipython",
    "version": 3
   },
   "file_extension": ".py",
   "mimetype": "text/x-python",
   "name": "python",
   "nbconvert_exporter": "python",
   "pygments_lexer": "ipython3",
   "version": "3.7.11"
  }
 },
 "nbformat": 4,
 "nbformat_minor": 5
}
